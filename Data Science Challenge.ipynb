{
 "cells": [
  {
   "cell_type": "code",
   "execution_count": null,
   "metadata": {},
   "outputs": [],
   "source": []
  },
  {
   "cell_type": "markdown",
   "metadata": {},
   "source": [
    "## Question 1\n",
    "On Shopify, we have exactly 100 sneaker shops, and each of these shops sells only one model of shoe. We want to do some analysis of the average order value (AOV). When we look at orders data over a 30 day window, we naively calculate an AOV of $3145.13. Given that we know these shops are selling sneakers, a relatively affordable item, something seems wrong with our analysis."
   ]
  },
  {
   "cell_type": "code",
   "execution_count": 6,
   "metadata": {},
   "outputs": [
    {
     "name": "stdout",
     "output_type": "stream",
     "text": [
      "Number of sneakers shops :100\n",
      "Average order value (AOV) of thee sneaker shops is 3145.13\n"
     ]
    },
    {
     "data": {
      "text/html": [
       "<div>\n",
       "<style scoped>\n",
       "    .dataframe tbody tr th:only-of-type {\n",
       "        vertical-align: middle;\n",
       "    }\n",
       "\n",
       "    .dataframe tbody tr th {\n",
       "        vertical-align: top;\n",
       "    }\n",
       "\n",
       "    .dataframe thead th {\n",
       "        text-align: right;\n",
       "    }\n",
       "</style>\n",
       "<table border=\"1\" class=\"dataframe\">\n",
       "  <thead>\n",
       "    <tr style=\"text-align: right;\">\n",
       "      <th></th>\n",
       "      <th>order_id</th>\n",
       "      <th>shop_id</th>\n",
       "      <th>user_id</th>\n",
       "      <th>order_amount</th>\n",
       "      <th>total_items</th>\n",
       "      <th>payment_method</th>\n",
       "      <th>created_at</th>\n",
       "    </tr>\n",
       "  </thead>\n",
       "  <tbody>\n",
       "    <tr>\n",
       "      <th>0</th>\n",
       "      <td>1</td>\n",
       "      <td>53</td>\n",
       "      <td>746</td>\n",
       "      <td>224</td>\n",
       "      <td>2</td>\n",
       "      <td>cash</td>\n",
       "      <td>2017-03-13 12:36:56</td>\n",
       "    </tr>\n",
       "    <tr>\n",
       "      <th>1</th>\n",
       "      <td>2</td>\n",
       "      <td>92</td>\n",
       "      <td>925</td>\n",
       "      <td>90</td>\n",
       "      <td>1</td>\n",
       "      <td>cash</td>\n",
       "      <td>2017-03-03 17:38:52</td>\n",
       "    </tr>\n",
       "    <tr>\n",
       "      <th>2</th>\n",
       "      <td>3</td>\n",
       "      <td>44</td>\n",
       "      <td>861</td>\n",
       "      <td>144</td>\n",
       "      <td>1</td>\n",
       "      <td>cash</td>\n",
       "      <td>2017-03-14 4:23:56</td>\n",
       "    </tr>\n",
       "    <tr>\n",
       "      <th>3</th>\n",
       "      <td>4</td>\n",
       "      <td>18</td>\n",
       "      <td>935</td>\n",
       "      <td>156</td>\n",
       "      <td>1</td>\n",
       "      <td>credit_card</td>\n",
       "      <td>2017-03-26 12:43:37</td>\n",
       "    </tr>\n",
       "    <tr>\n",
       "      <th>4</th>\n",
       "      <td>5</td>\n",
       "      <td>18</td>\n",
       "      <td>883</td>\n",
       "      <td>156</td>\n",
       "      <td>1</td>\n",
       "      <td>credit_card</td>\n",
       "      <td>2017-03-01 4:35:11</td>\n",
       "    </tr>\n",
       "  </tbody>\n",
       "</table>\n",
       "</div>"
      ],
      "text/plain": [
       "   order_id  shop_id  user_id  order_amount  total_items payment_method  \\\n",
       "0         1       53      746           224            2           cash   \n",
       "1         2       92      925            90            1           cash   \n",
       "2         3       44      861           144            1           cash   \n",
       "3         4       18      935           156            1    credit_card   \n",
       "4         5       18      883           156            1    credit_card   \n",
       "\n",
       "            created_at  \n",
       "0  2017-03-13 12:36:56  \n",
       "1  2017-03-03 17:38:52  \n",
       "2   2017-03-14 4:23:56  \n",
       "3  2017-03-26 12:43:37  \n",
       "4   2017-03-01 4:35:11  "
      ]
     },
     "execution_count": 6,
     "metadata": {},
     "output_type": "execute_result"
    }
   ],
   "source": [
    "import pandas as pd # load library\n",
    "import matplotlib.pyplot as plt # visualize package\n",
    "\n",
    "\n",
    "sheet_id = \"16i38oonuX1y1g7C_UAmiK9GkY7cS-64DfiDMNiR41LM\"\n",
    "sheet_name = \"Sheet1\"\n",
    "url = f\"https://docs.google.com/spreadsheets/d/{sheet_id}/gviz/tq?tqx=out:csv&sheet={sheet_name}\"\n",
    "\n",
    "df= pd.read_csv(url) #load the data\n",
    "print(f\"Number of sneakers shops :{df['shop_id'].nunique()}\")\n",
    "print(f\"Average order value (AOV) of thee sneaker shops is {round(df['order_amount'].sum()/len(df), 2)}\")\n",
    "df.head() # view first 5 entries of dataset"
   ]
  },
  {
   "cell_type": "markdown",
   "metadata": {},
   "source": [
    "Think about what could be going wrong with our calculation. Think about a better way to evaluate this data. \n"
   ]
  },
  {
   "cell_type": "code",
   "execution_count": 9,
   "metadata": {},
   "outputs": [
    {
     "data": {
      "text/plain": [
       "3145.128"
      ]
     },
     "execution_count": 9,
     "metadata": {},
     "output_type": "execute_result"
    }
   ],
   "source": [
    "df['order_amount'].mean()"
   ]
  },
  {
   "cell_type": "markdown",
   "metadata": {},
   "source": [
    " Average order value (AOV) tracks the average dollar amount spent each time a customer places an order on a website or mobile app. To calculate your company's average order value, simply divide total revenue by the number of orders.\n",
    "\n",
    "\n",
    " Visualize the Dataset"
   ]
  },
  {
   "cell_type": "code",
   "execution_count": 16,
   "metadata": {},
   "outputs": [
    {
     "name": "stdout",
     "output_type": "stream",
     "text": [
      "Order amount and total items has 0.99% correlation\n",
      "98% of the order amount is below $284.0\n"
     ]
    },
    {
     "data": {
      "image/png": "[encoded data removed]",
      "text/plain": [
       "<Figure size 432x288 with 2 Axes>"
      ]
     },
     "metadata": {
      "needs_background": "light"
     },
     "output_type": "display_data"
    }
   ],
   "source": [
    "print(f\"Order amount and total items has {round(df['order_amount'].corr(df['total_items']), 2)}% correlation\")\n",
    "print(f\"98% of the order amount is below ${round(df['order_amount'].quantile(.50), 2)}\")\n",
    "fig, ax = plt.subplots(1, 2)\n",
    "ax[0].boxplot(df['order_amount'], showfliers=False)\n",
    "ax[0].set_title(\"No Outliers\")\n",
    "ax[0].get_xaxis().set_visible(False)\n",
    "ax[1].boxplot(df['order_amount'], showfliers=True)\n",
    "ax[1].set_title(\"Outliers\")\n",
    "ax[1].get_xaxis().set_visible(False)\n",
    "plt.suptitle('Order Amount')\n",
    "fig.tight_layout()\n",
    "plt.show()"
   ]
  },
  {
   "cell_type": "markdown",
   "metadata": {},
   "source": [
    "The reason for the wrong AOV is due to the presence of outliers. From the graph, the sneakers sold in bulk are outliers that skew up the average in this dataset.\n",
    "A better way to evaluate this data for sneaker shops owner is to consider all three measures of central tendency (mean, median and mode)"
   ]
  },
  {
   "cell_type": "code",
   "execution_count": 24,
   "metadata": {},
   "outputs": [
    {
     "name": "stdout",
     "output_type": "stream",
     "text": [
      "median -  153.0\n",
      "mode -  [153.0]\n",
      "mean -  387.7428\n"
     ]
    }
   ],
   "source": [
    "# we create a new column to specify the price for a single sneaker sold for each order.\n",
    "df['Unit price'] = df['order_amount'] / df['total_items']\n",
    "\n",
    "#median\n",
    "print('median - ', df['Unit price'].median())\n",
    "\n",
    "#mode\n",
    "print('mode - ', df['Unit price'].mode().tolist())\n",
    "\n",
    "#mean\n",
    "print('mean - ', df['Unit price'].mean())"
   ]
  },
  {
   "cell_type": "markdown",
   "metadata": {},
   "source": [
    "What metric would you report for this dataset?\n",
    "Answer = To enhance overall revenue, I would look at the median value. Median is robust to outliers"
   ]
  },
  {
   "cell_type": "markdown",
   "metadata": {},
   "source": [
    "What is it's value?\n",
    "Answer =153"
   ]
  },
  {
   "cell_type": "markdown",
   "metadata": {},
   "source": [
    "## Question 2\n",
    "For this question you’ll need to use SQL. Follow this link to access the data set required for the challenge. Please use queries to answer the following questions. Paste your queries along with your final numerical answers below.\n",
    "\n",
    "How many orders were shipped by Speedy Express in total?\n",
    "Answer = 54"
   ]
  },
  {
   "cell_type": "raw",
   "metadata": {},
   "source": [
    "SELECT COUNT(*) as total_shipment_by_speedexpress\n",
    "FROM Shippers as s\n",
    "LEFT JOIN Orders as o\n",
    "ON s.ShipperID = o.ShipperID\n",
    "WHERE ShipperName = \"Speedy Express\""
   ]
  },
  {
   "cell_type": "markdown",
   "metadata": {},
   "source": [
    "What is the last name of the employee with the most orders?\n",
    "Answer = Peacock 40"
   ]
  },
  {
   "cell_type": "raw",
   "metadata": {},
   "source": [
    "SELECT emp.LastName, COUNT(DISTINCT ord.OrderID) as num_of_orders\n",
    "FROM Employees as emp\n",
    "LEFT JOIN Orders as ord\n",
    "ON emp.EmployeeID = ord.EmployeeID\n",
    "GROUP BY emp.EmployeeID\n",
    "ORDER BY num_of_orders DESC\n",
    "LIMIT 1"
   ]
  },
  {
   "cell_type": "markdown",
   "metadata": {},
   "source": [
    "Answer = Peacock 40"
   ]
  },
  {
   "cell_type": "markdown",
   "metadata": {},
   "source": [
    "What product was ordered the most by customers in Germany?  \n",
    "Answer =Boston Crab Meat 160"
   ]
  },
  {
   "cell_type": "markdown",
   "metadata": {},
   "source": [
    "SELECT  od.OrderID, pr.ProductName, SUM(od.Quantity) as Total_Quantity, or.CustomerID, c.Country\n",
    "FROM Products as pr\n",
    "LEFT JOIN OrderDetails as od\n",
    "ON pr.ProductID = od.ProductID\n",
    "LEFT JOIN Orders as or\n",
    "ON od.OrderID = or.OrderID\n",
    "LEFT JOIN Customers as c\n",
    "ON or.CustomerID = c.CustomerID\n",
    "WHERE c.Country = \"Germany\"\n",
    "GROUP BY pr.ProductName\n",
    "ORDER BY Total_Quantity DESC\n",
    "LIMIT 1"
   ]
  }
 ],
 "metadata": {
  "interpreter": {
   "hash": "b3ba2566441a7c06988d0923437866b63cedc61552a5af99d1f4fb67d367b25f"
  },
  "kernelspec": {
   "display_name": "Python 3.8.8 64-bit ('base': conda)",
   "language": "python",
   "name": "python3"
  },
  "language_info": {
   "codemirror_mode": {
    "name": "ipython",
    "version": 3
   },
   "file_extension": ".py",
   "mimetype": "text/x-python",
   "name": "python",
   "nbconvert_exporter": "python",
   "pygments_lexer": "ipython3",
   "version": "3.8.8"
  },
  "orig_nbformat": 4
 },
 "nbformat": 4,
 "nbformat_minor": 2
}
